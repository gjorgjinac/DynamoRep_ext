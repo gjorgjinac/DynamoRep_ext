{
 "cells": [
  {
   "cell_type": "code",
   "execution_count": 1,
   "id": "3247a423-ebfb-4d54-b388-6cde5bdf0149",
   "metadata": {},
   "outputs": [],
   "source": [
    "import pandas as pd\n",
    "import os\n",
    "import seaborn as sns\n",
    "from config import *\n",
    "import matplotlib.pyplot as plt\n",
    "import numpy as np\n",
    "\n",
    "from sklearn.metrics import accuracy_score, classification_report, ConfusionMatrixDisplay"
   ]
  },
  {
   "cell_type": "code",
   "execution_count": 2,
   "id": "28a16573-9343-4e25-ae00-63734b9f3554",
   "metadata": {},
   "outputs": [],
   "source": [
    "result_dir='algorithm_classification_ela_results'\n",
    "seeds=[200,400,600,800,1000]\n",
    "visualizations_dir='algorithm_classification_ela_visualizations'\n",
    "train_on_seed=True\n",
    "difference=False\n",
    "\n",
    "seed_mapping={index:seed for index,seed in enumerate(seeds)}"
   ]
  },
  {
   "cell_type": "code",
   "execution_count": 3,
   "id": "3568ebed-97ca-4d8a-a1a4-c7d495720ee9",
   "metadata": {},
   "outputs": [],
   "source": [
    "os.makedirs(visualizations_dir,exist_ok=True)"
   ]
  },
  {
   "cell_type": "code",
   "execution_count": 4,
   "id": "0f748b69-edd2-468b-a1ac-514d505fcf8a",
   "metadata": {},
   "outputs": [],
   "source": [
    "def get_global_file_name(dimension,algorithms, iteration_start,iteration_end, train_on_seed,seed, difference,stat=None, normalize_y=False):\n",
    "    file_name=f'dim_{dimension}_{algorithms}_it_{iteration_start}-{iteration_end}_instance_count_100_{\"train\" if train_on_seed else \"test\"}_on_seed_{seed}{\"_differenced\" if difference else \"\"}'\n",
    "    if stat is None:\n",
    "        return os.path.join(result_dir + f'_normalize_{normalize_y}',  file_name)\n",
    "    else:\n",
    "        return os.path.join(result_dir + f'_normalize_{normalize_y}',f'stat_{stat}_' + file_name)\n",
    "\n",
    "\n",
    "def get_visualization_output_name_without_seed(dimension,algorithms, iteration_start,iteration_end, train_on_seed, difference):\n",
    "    return os.path.join(visualizations_dir,f'dim_{dimension}_{algorithms}_it_{iteration_start}-{iteration_end}_instance_count_100_{\"train\" if train_on_seed else \"test\"}_on_seed{\"_differenced\" if difference else \"\"}')"
   ]
  },
  {
   "cell_type": "code",
   "execution_count": 5,
   "id": "8c93fe1f-b903-46d1-9eec-12f324f05ac5",
   "metadata": {},
   "outputs": [],
   "source": [
    "def get_seed_accuracies_df(dimension,algorithm, iteration_start, iteration_end, train_on_seed, difference, seeds, stat=None, normalize_y=False):\n",
    "    seed_accuracies=[]\n",
    "    test_df_all=pd.DataFrame()\n",
    "    for train_seed in seeds:\n",
    "        test_df=pd.DataFrame()\n",
    "        for fold in range(0,10):\n",
    "\n",
    "            global_file_name=get_global_file_name(dimension,algorithm, iteration_start,iteration_end, train_on_seed,train_seed, difference, stat, normalize_y)\n",
    "            file_location=global_file_name+f'_fold_{fold}_test_preds.csv'\n",
    "\n",
    "            if not os.path.isfile(file_location):\n",
    "                print('Not found', file_location)\n",
    "                continue\n",
    "            #print(file_location)\n",
    "            test_df_fold=pd.read_csv(file_location, index_col=[0], compression='zip').rename(columns={'seed':'test_seed'}) \n",
    "            test_df_fold['fold']=fold\n",
    "            test_df_fold['train_seed']=train_seed\n",
    "            test_df=pd.concat([test_df,test_df_fold])\n",
    "            test_df_all=pd.concat([test_df_all,test_df_fold])\n",
    "\n",
    "\n",
    "\n",
    "        for test_seed in seeds:\n",
    "            for fold in range(0,10):\n",
    "                seed_preds_df=test_df.query('test_seed==@test_seed and fold==@fold')\n",
    "                seed_accuracies+=[(accuracy_score(seed_preds_df['y'], seed_preds_df['preds']), train_seed, test_seed, fold)]\n",
    "\n",
    "\n",
    "    if len(seed_accuracies)>0:\n",
    "        seed_accuracy_df=pd.DataFrame(seed_accuracies)\n",
    "        seed_accuracy_df.columns=['accuracy','train_seed','test_seed','fold']\n",
    "        return seed_accuracy_df, test_df_all\n",
    "    return None"
   ]
  },
  {
   "cell_type": "code",
   "execution_count": 6,
   "id": "358434c8-b903-48c2-9768-b497ef56c3a6",
   "metadata": {},
   "outputs": [],
   "source": [
    "def accuracy_subplots(all_accuracies, all_groupings, group_name, file_name):\n",
    "    fig, axes = plt.subplots(int(len(all_groupings)/2),2, figsize=(8,8), sharex=True, sharey=True, squeeze=False)\n",
    "    for grouping_index, grouping in enumerate(all_groupings):\n",
    "        grouping_accuracies=all_accuracies[all_accuracies[group_name]==grouping]\n",
    "        ax=axes[int(grouping_index/2), grouping_index%2] if type(axes) is np.ndarray else axes\n",
    "        ax.set_title(f'{group_name}: {grouping}')\n",
    "        sns.violinplot(data=grouping_accuracies, x=\"feature calculation budget (iterations)\", y=\"accuracy\", hue='Evaluation on trajectories from training seed', split=True, palette=color_palette[1:3], ax=ax)\n",
    "        if grouping_index != 0:\n",
    "            ax.get_legend().remove()\n",
    "    plt.tight_layout()\n",
    "\n",
    "    plt.savefig(os.path.join(visualizations_dir,file_name))\n",
    "    plt.show()"
   ]
  },
  {
   "cell_type": "code",
   "execution_count": 7,
   "id": "c1ed4a8d-4674-48b4-9bdb-073e556f0cf7",
   "metadata": {},
   "outputs": [
    {
     "name": "stdout",
     "output_type": "stream",
     "text": [
      "     accuracy  train_seed  test_seed  fold  feature calculation budget  \\\n",
      "0    1.000000         200        200     0                           3   \n",
      "1    0.998889         200        200     1                           3   \n",
      "2    1.000000         200        200     2                           3   \n",
      "3    1.000000         200        200     3                           3   \n",
      "4    1.000000         200        200     4                           3   \n",
      "..        ...         ...        ...   ...                         ...   \n",
      "245  0.913333        1000       1000     5                          30   \n",
      "246  1.000000        1000       1000     6                          30   \n",
      "247  1.000000        1000       1000     7                          30   \n",
      "248  0.973333        1000       1000     8                          30   \n",
      "249  0.882000        1000       1000     9                          30   \n",
      "\n",
      "     dimension  difference  normalize_y  Train seed==Test seed  \n",
      "0            5       False        False                   True  \n",
      "1            5       False        False                   True  \n",
      "2            5       False        False                   True  \n",
      "3            5       False        False                   True  \n",
      "4            5       False        False                   True  \n",
      "..         ...         ...          ...                    ...  \n",
      "245          5        True         True                   True  \n",
      "246          5        True         True                   True  \n",
      "247          5        True         True                   True  \n",
      "248          5        True         True                   True  \n",
      "249          5        True         True                   True  \n",
      "\n",
      "[5000 rows x 9 columns]\n"
     ]
    }
   ],
   "source": [
    "results_per_iteration=[]\n",
    "all_algorithms='DE_PSO_ES'\n",
    "all_dimensions=[5]\n",
    "all_accuracies=pd.DataFrame()\n",
    "train_on_seed=True\n",
    "for dimension in all_dimensions:\n",
    "\n",
    "    for end_iteration in [2,4,9,19,29]: #[0,2,4,9,19,29]\n",
    "        for difference_index, difference in enumerate([False,True]):\n",
    "            if end_iteration==0 and difference:\n",
    "                continue\n",
    "            for normalize_index, normalize_y in enumerate([False,True]):\n",
    "\n",
    "                seed_accuracy_df,_ = get_seed_accuracies_df(dimension,all_algorithms, 0, end_iteration, train_on_seed, difference, seeds, normalize_y=normalize_y)\n",
    "                seed_accuracy_df['feature calculation budget']=end_iteration+1\n",
    "                seed_accuracy_df['dimension']=dimension\n",
    "                seed_accuracy_df['difference']=difference\n",
    "                seed_accuracy_df['normalize_y']=normalize_y\n",
    "                all_accuracies=pd.concat([all_accuracies,seed_accuracy_df])\n",
    "\n",
    "    \n",
    "all_accuracies['Train seed==Test seed']=all_accuracies.apply(lambda row: row['train_seed']==row['test_seed'] if train_on_seed else row['train_seed']!=row['test_seed'] , axis=1)\n",
    "print(all_accuracies)\n",
    "#accuracy_subplots(all_accuracies,all_dimensions,'dimension',f'accuracy_by_dimension_{\"train\" if train_on_seed else \"test\"}_on_seed{\"_differenced\" if difference else \"\"}.pdf')"
   ]
  },
  {
   "cell_type": "code",
   "execution_count": null,
   "id": "e66ab9d4-3bda-4ced-830f-94f3eed0c48c",
   "metadata": {},
   "outputs": [],
   "source": [
    "sns.set(font_scale=1.2)\n",
    "fig, axes = plt.subplots(2,2, figsize=(8,8), sharex=True, sharey=True, squeeze=False)\n",
    "for normalize_index, normalize_y in enumerate([False,True]):\n",
    "    for difference_index, difference in enumerate([False,True]):\n",
    "        grouping_accuracies=all_accuracies.query('difference==@difference and normalize_y==@normalize_y')\n",
    "        ax=axes[normalize_index][difference_index] if type(axes) is np.ndarray else axes\n",
    "        ax.set_title(f'Difference: {difference}\\n Scale y: {normalize_y}')\n",
    "        sns.violinplot(data=grouping_accuracies, x=\"feature calculation budget\", y=\"accuracy\", hue='Train seed==Test seed', split=True, palette=color_palette[1:3], ax=ax)\n",
    "        if normalize_index==0 and difference_index==1:\n",
    "            pass\n",
    "            #ax.legend(bbox_to_anchor=(1.05, 1), loc='upper left')\n",
    "        else: \n",
    "            ax.get_legend().remove()\n",
    "plt.tight_layout()\n",
    "\n",
    "plt.savefig(os.path.join(visualizations_dir,'algorithm_classification_results.pdf'))\n",
    "plt.show()"
   ]
  }
 ],
 "metadata": {
  "kernelspec": {
   "display_name": "Base",
   "language": "python",
   "name": "base"
  },
  "language_info": {
   "codemirror_mode": {
    "name": "ipython",
    "version": 3
   },
   "file_extension": ".py",
   "mimetype": "text/x-python",
   "name": "python",
   "nbconvert_exporter": "python",
   "pygments_lexer": "ipython3",
   "version": "3.8.16"
  }
 },
 "nbformat": 4,
 "nbformat_minor": 5
}
