{
 "cells": [
  {
   "cell_type": "code",
   "execution_count": 1,
   "id": "f8f11dde-4a3c-4f2d-ba1a-88b761c38363",
   "metadata": {},
   "outputs": [],
   "source": [
    "import pandas as pd\n",
    "import ioh"
   ]
  },
  {
   "cell_type": "code",
   "execution_count": 2,
   "id": "a19e5c0b-4619-4d4f-aab4-c9ef9f398a87",
   "metadata": {},
   "outputs": [],
   "source": [
    "def run_for_dimension(dimension):\n",
    "    all_bbob_optimums=[]\n",
    "    for problem_id in range (1,25):\n",
    "        for instance_id in range (1,1000):\n",
    "            f = ioh.get_problem(problem_id,instance_id,dimension)\n",
    "            o = f.optimum.x\n",
    "            all_bbob_optimums+=[tuple([problem_id,instance_id,dimension]+list(f.optimum.x)+ [f.optimum.y])]\n",
    "    columns=['problem_id','instance_id','dimension']+[f'x_{i}' for i in range (0,dimension)]+['y']\n",
    "    all_bbob_optimums=pd.DataFrame(all_bbob_optimums, columns=columns)\n",
    "    all_bbob_optimums.to_csv(f'algorithm_run_data/BBOB_optimums_dim_{dimension}.csv', index=False)"
   ]
  },
  {
   "cell_type": "code",
   "execution_count": 3,
   "id": "5cc830c9-df16-465e-831b-d180beb6dccf",
   "metadata": {},
   "outputs": [],
   "source": [
    "for dimension in [3,5,10,20]:\n",
    "    run_for_dimension(dimension)"
   ]
  },
  {
   "cell_type": "code",
   "execution_count": null,
   "id": "b00c72d3-4c31-4ed3-b6f8-f96fd18e3c88",
   "metadata": {},
   "outputs": [],
   "source": []
  },
  {
   "cell_type": "code",
   "execution_count": null,
   "id": "0edb809f-6931-48a9-8e35-868b9bc5ccbc",
   "metadata": {},
   "outputs": [],
   "source": []
  },
  {
   "cell_type": "code",
   "execution_count": null,
   "id": "465e66b7-2b77-4ee2-8ba7-8f8b76b24a93",
   "metadata": {},
   "outputs": [
    {
     "name": "stdout",
     "output_type": "stream",
     "text": [
      "3 200 DE\n",
      "3 200 ES\n",
      "3 200 PSO\n",
      "3 400 DE\n",
      "3 400 ES\n",
      "3 400 PSO\n",
      "3 600 DE\n",
      "3 600 ES\n",
      "3 600 PSO\n",
      "3 800 DE\n",
      "3 800 ES\n",
      "3 800 PSO\n",
      "3 1000 DE\n",
      "3 1000 ES\n",
      "3 1000 PSO\n",
      "5 200 DE\n",
      "5 200 ES\n",
      "5 200 PSO\n",
      "5 400 DE\n"
     ]
    }
   ],
   "source": [
    "all_minimums_df=pd.DataFrame()\n",
    "for dimension in [3,5,10,20]:\n",
    "    for seed in [200,400,600,800,1000]:\n",
    "        for algorithm_name in ['DE','ES','PSO']:\n",
    "            df = pd.read_csv(f'algorithm_run_data/{algorithm_name}_dim_{dimension}_seed_{seed}.csv', index_col=[0])\n",
    "            grouped = df.groupby(['algorithm_name','problem_id','instance_id','iteration']).min()[str(dimension)].to_frame().reset_index()\n",
    "\n",
    "            for iteration in range(0,50):\n",
    "                minimums_up_to_iteration=grouped.query('iteration<=@iteration').groupby(['algorithm_name','problem_id','instance_id']).min()[str(dimension)].to_frame()\n",
    "                minimums_up_to_iteration.columns=['min_up_to_iteration']\n",
    "                minimums_up_to_iteration=minimums_up_to_iteration.reset_index()\n",
    "                minimums_up_to_iteration['iteration']=iteration\n",
    "                minimums_up_to_iteration['seed']=seed\n",
    "                minimums_up_to_iteration['dimension']=dimension\n",
    "                all_minimums_df=pd.concat([all_minimums_df, minimums_up_to_iteration])\n",
    "            print(dimension,seed,algorithm_name)\n",
    "            \n",
    "all_minimums_df.to_csv('algorithm_run_data/all_algorithms_minimums_per_iteration.csv')"
   ]
  },
  {
   "cell_type": "code",
   "execution_count": null,
   "id": "48c92414-185d-453f-8b32-d0aac8a00c0a",
   "metadata": {},
   "outputs": [],
   "source": [
    "all_minimums_df=pd.read_csv('algorithm_run_data/all_algorithms_minimums_per_iteration.csv',index_col=[0])"
   ]
  },
  {
   "cell_type": "code",
   "execution_count": null,
   "id": "1f73bfa8-c965-44fd-b996-12ab93d0e327",
   "metadata": {},
   "outputs": [],
   "source": [
    "all_bbob_optimums=pd.DataFrame()\n",
    "for dimension in [3,5,10,20]:\n",
    "    dimension_optimums=pd.read_csv(f'algorithm_run_data/BBOB_optimums_dim_{dimension}.csv', index_col=False)\n",
    "    dimension_optimums['dimension']=dimension\n",
    "    all_bbob_optimums=pd.concat([all_bbob_optimums, dimension_optimums])\n"
   ]
  },
  {
   "cell_type": "code",
   "execution_count": null,
   "id": "345934ad-dfd3-417c-9068-4e17531676e5",
   "metadata": {},
   "outputs": [],
   "source": [
    "min_columns=all_minimums_df.columns"
   ]
  },
  {
   "cell_type": "code",
   "execution_count": null,
   "id": "6967ff41-0956-4da8-83d9-338e7a8a137c",
   "metadata": {},
   "outputs": [],
   "source": [
    "all_minimums_optimums_df=all_minimums_df.merge(all_bbob_optimums, left_on=['problem_id', 'instance_id','dimension'], right_on=['problem_id', 'instance_id','dimension'])"
   ]
  },
  {
   "cell_type": "code",
   "execution_count": null,
   "id": "3017a11d-b4e6-4c2c-a1e7-e706a3d2084f",
   "metadata": {},
   "outputs": [],
   "source": [
    "all_minimums_optimums_df=all_minimums_optimums_df[list(min_columns)+['y']]"
   ]
  },
  {
   "cell_type": "code",
   "execution_count": null,
   "id": "128b0065-51b1-4714-a546-b1b11a190a89",
   "metadata": {},
   "outputs": [],
   "source": [
    "all_minimums_optimums_df['precision_at_iteration'] = all_minimums_optimums_df.apply(lambda row: row['min_up_to_iteration']-row['y'], axis=1)"
   ]
  },
  {
   "cell_type": "code",
   "execution_count": null,
   "id": "7d037457-d5f0-42a0-a255-60ccb9ef80e2",
   "metadata": {},
   "outputs": [],
   "source": [
    "all_minimums_optimums_df.to_csv('algorithm_run_data/all_algorithms_precision_per_iteration.csv',compression='zip')"
   ]
  },
  {
   "cell_type": "code",
   "execution_count": null,
   "id": "c17c81d6-62af-4d9a-8060-18c835a59879",
   "metadata": {},
   "outputs": [],
   "source": []
  }
 ],
 "metadata": {
  "kernelspec": {
   "display_name": "Base",
   "language": "python",
   "name": "base"
  },
  "language_info": {
   "codemirror_mode": {
    "name": "ipython",
    "version": 3
   },
   "file_extension": ".py",
   "mimetype": "text/x-python",
   "name": "python",
   "nbconvert_exporter": "python",
   "pygments_lexer": "ipython3",
   "version": "3.8.16"
  }
 },
 "nbformat": 4,
 "nbformat_minor": 5
}
