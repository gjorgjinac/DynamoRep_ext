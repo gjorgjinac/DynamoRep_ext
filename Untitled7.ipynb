{
 "cells": [
  {
   "cell_type": "code",
   "execution_count": 1,
   "id": "7fb9615e-5997-4412-9e88-55f67773fbac",
   "metadata": {},
   "outputs": [],
   "source": [
    "import pandas as pd"
   ]
  },
  {
   "cell_type": "code",
   "execution_count": 29,
   "id": "ffdd72de-4cfc-4265-9ea8-0f506bd44b76",
   "metadata": {},
   "outputs": [
    {
     "name": "stderr",
     "output_type": "stream",
     "text": [
      "/tmp/ipykernel_2531/812007416.py:11: FutureWarning: The default value of numeric_only in DataFrameGroupBy.mean is deprecated. In a future version, numeric_only will default to False. Either specify numeric_only or select only columns which should be valid for the function.\n",
      "  minimums_mean=minimums_df.groupby(['problem_id','instance_id']).mean()\n",
      "/tmp/ipykernel_2531/812007416.py:11: FutureWarning: The default value of numeric_only in DataFrameGroupBy.mean is deprecated. In a future version, numeric_only will default to False. Either specify numeric_only or select only columns which should be valid for the function.\n",
      "  minimums_mean=minimums_df.groupby(['problem_id','instance_id']).mean()\n",
      "/tmp/ipykernel_2531/812007416.py:11: FutureWarning: The default value of numeric_only in DataFrameGroupBy.mean is deprecated. In a future version, numeric_only will default to False. Either specify numeric_only or select only columns which should be valid for the function.\n",
      "  minimums_mean=minimums_df.groupby(['problem_id','instance_id']).mean()\n",
      "/tmp/ipykernel_2531/812007416.py:11: FutureWarning: The default value of numeric_only in DataFrameGroupBy.mean is deprecated. In a future version, numeric_only will default to False. Either specify numeric_only or select only columns which should be valid for the function.\n",
      "  minimums_mean=minimums_df.groupby(['problem_id','instance_id']).mean()\n",
      "/tmp/ipykernel_2531/812007416.py:11: FutureWarning: The default value of numeric_only in DataFrameGroupBy.mean is deprecated. In a future version, numeric_only will default to False. Either specify numeric_only or select only columns which should be valid for the function.\n",
      "  minimums_mean=minimums_df.groupby(['problem_id','instance_id']).mean()\n",
      "/tmp/ipykernel_2531/812007416.py:11: FutureWarning: The default value of numeric_only in DataFrameGroupBy.mean is deprecated. In a future version, numeric_only will default to False. Either specify numeric_only or select only columns which should be valid for the function.\n",
      "  minimums_mean=minimums_df.groupby(['problem_id','instance_id']).mean()\n",
      "/tmp/ipykernel_2531/812007416.py:11: FutureWarning: The default value of numeric_only in DataFrameGroupBy.mean is deprecated. In a future version, numeric_only will default to False. Either specify numeric_only or select only columns which should be valid for the function.\n",
      "  minimums_mean=minimums_df.groupby(['problem_id','instance_id']).mean()\n",
      "/tmp/ipykernel_2531/812007416.py:11: FutureWarning: The default value of numeric_only in DataFrameGroupBy.mean is deprecated. In a future version, numeric_only will default to False. Either specify numeric_only or select only columns which should be valid for the function.\n",
      "  minimums_mean=minimums_df.groupby(['problem_id','instance_id']).mean()\n",
      "/tmp/ipykernel_2531/812007416.py:11: FutureWarning: The default value of numeric_only in DataFrameGroupBy.mean is deprecated. In a future version, numeric_only will default to False. Either specify numeric_only or select only columns which should be valid for the function.\n",
      "  minimums_mean=minimums_df.groupby(['problem_id','instance_id']).mean()\n",
      "/tmp/ipykernel_2531/812007416.py:11: FutureWarning: The default value of numeric_only in DataFrameGroupBy.mean is deprecated. In a future version, numeric_only will default to False. Either specify numeric_only or select only columns which should be valid for the function.\n",
      "  minimums_mean=minimums_df.groupby(['problem_id','instance_id']).mean()\n",
      "/tmp/ipykernel_2531/812007416.py:11: FutureWarning: The default value of numeric_only in DataFrameGroupBy.mean is deprecated. In a future version, numeric_only will default to False. Either specify numeric_only or select only columns which should be valid for the function.\n",
      "  minimums_mean=minimums_df.groupby(['problem_id','instance_id']).mean()\n",
      "/tmp/ipykernel_2531/812007416.py:11: FutureWarning: The default value of numeric_only in DataFrameGroupBy.mean is deprecated. In a future version, numeric_only will default to False. Either specify numeric_only or select only columns which should be valid for the function.\n",
      "  minimums_mean=minimums_df.groupby(['problem_id','instance_id']).mean()\n",
      "/tmp/ipykernel_2531/812007416.py:11: FutureWarning: The default value of numeric_only in DataFrameGroupBy.mean is deprecated. In a future version, numeric_only will default to False. Either specify numeric_only or select only columns which should be valid for the function.\n",
      "  minimums_mean=minimums_df.groupby(['problem_id','instance_id']).mean()\n",
      "/tmp/ipykernel_2531/812007416.py:11: FutureWarning: The default value of numeric_only in DataFrameGroupBy.mean is deprecated. In a future version, numeric_only will default to False. Either specify numeric_only or select only columns which should be valid for the function.\n",
      "  minimums_mean=minimums_df.groupby(['problem_id','instance_id']).mean()\n",
      "/tmp/ipykernel_2531/812007416.py:11: FutureWarning: The default value of numeric_only in DataFrameGroupBy.mean is deprecated. In a future version, numeric_only will default to False. Either specify numeric_only or select only columns which should be valid for the function.\n",
      "  minimums_mean=minimums_df.groupby(['problem_id','instance_id']).mean()\n",
      "/tmp/ipykernel_2531/812007416.py:11: FutureWarning: The default value of numeric_only in DataFrameGroupBy.mean is deprecated. In a future version, numeric_only will default to False. Either specify numeric_only or select only columns which should be valid for the function.\n",
      "  minimums_mean=minimums_df.groupby(['problem_id','instance_id']).mean()\n",
      "/tmp/ipykernel_2531/812007416.py:11: FutureWarning: The default value of numeric_only in DataFrameGroupBy.mean is deprecated. In a future version, numeric_only will default to False. Either specify numeric_only or select only columns which should be valid for the function.\n",
      "  minimums_mean=minimums_df.groupby(['problem_id','instance_id']).mean()\n",
      "/tmp/ipykernel_2531/812007416.py:11: FutureWarning: The default value of numeric_only in DataFrameGroupBy.mean is deprecated. In a future version, numeric_only will default to False. Either specify numeric_only or select only columns which should be valid for the function.\n",
      "  minimums_mean=minimums_df.groupby(['problem_id','instance_id']).mean()\n",
      "/tmp/ipykernel_2531/812007416.py:11: FutureWarning: The default value of numeric_only in DataFrameGroupBy.mean is deprecated. In a future version, numeric_only will default to False. Either specify numeric_only or select only columns which should be valid for the function.\n",
      "  minimums_mean=minimums_df.groupby(['problem_id','instance_id']).mean()\n",
      "/tmp/ipykernel_2531/812007416.py:11: FutureWarning: The default value of numeric_only in DataFrameGroupBy.mean is deprecated. In a future version, numeric_only will default to False. Either specify numeric_only or select only columns which should be valid for the function.\n",
      "  minimums_mean=minimums_df.groupby(['problem_id','instance_id']).mean()\n",
      "/tmp/ipykernel_2531/812007416.py:11: FutureWarning: The default value of numeric_only in DataFrameGroupBy.mean is deprecated. In a future version, numeric_only will default to False. Either specify numeric_only or select only columns which should be valid for the function.\n",
      "  minimums_mean=minimums_df.groupby(['problem_id','instance_id']).mean()\n",
      "/tmp/ipykernel_2531/812007416.py:11: FutureWarning: The default value of numeric_only in DataFrameGroupBy.mean is deprecated. In a future version, numeric_only will default to False. Either specify numeric_only or select only columns which should be valid for the function.\n",
      "  minimums_mean=minimums_df.groupby(['problem_id','instance_id']).mean()\n",
      "/tmp/ipykernel_2531/812007416.py:11: FutureWarning: The default value of numeric_only in DataFrameGroupBy.mean is deprecated. In a future version, numeric_only will default to False. Either specify numeric_only or select only columns which should be valid for the function.\n",
      "  minimums_mean=minimums_df.groupby(['problem_id','instance_id']).mean()\n",
      "/tmp/ipykernel_2531/812007416.py:11: FutureWarning: The default value of numeric_only in DataFrameGroupBy.mean is deprecated. In a future version, numeric_only will default to False. Either specify numeric_only or select only columns which should be valid for the function.\n",
      "  minimums_mean=minimums_df.groupby(['problem_id','instance_id']).mean()\n",
      "/tmp/ipykernel_2531/812007416.py:11: FutureWarning: The default value of numeric_only in DataFrameGroupBy.mean is deprecated. In a future version, numeric_only will default to False. Either specify numeric_only or select only columns which should be valid for the function.\n",
      "  minimums_mean=minimums_df.groupby(['problem_id','instance_id']).mean()\n",
      "/tmp/ipykernel_2531/812007416.py:11: FutureWarning: The default value of numeric_only in DataFrameGroupBy.mean is deprecated. In a future version, numeric_only will default to False. Either specify numeric_only or select only columns which should be valid for the function.\n",
      "  minimums_mean=minimums_df.groupby(['problem_id','instance_id']).mean()\n",
      "/tmp/ipykernel_2531/812007416.py:11: FutureWarning: The default value of numeric_only in DataFrameGroupBy.mean is deprecated. In a future version, numeric_only will default to False. Either specify numeric_only or select only columns which should be valid for the function.\n",
      "  minimums_mean=minimums_df.groupby(['problem_id','instance_id']).mean()\n",
      "/tmp/ipykernel_2531/812007416.py:11: FutureWarning: The default value of numeric_only in DataFrameGroupBy.mean is deprecated. In a future version, numeric_only will default to False. Either specify numeric_only or select only columns which should be valid for the function.\n",
      "  minimums_mean=minimums_df.groupby(['problem_id','instance_id']).mean()\n",
      "/tmp/ipykernel_2531/812007416.py:11: FutureWarning: The default value of numeric_only in DataFrameGroupBy.mean is deprecated. In a future version, numeric_only will default to False. Either specify numeric_only or select only columns which should be valid for the function.\n",
      "  minimums_mean=minimums_df.groupby(['problem_id','instance_id']).mean()\n",
      "/tmp/ipykernel_2531/812007416.py:11: FutureWarning: The default value of numeric_only in DataFrameGroupBy.mean is deprecated. In a future version, numeric_only will default to False. Either specify numeric_only or select only columns which should be valid for the function.\n",
      "  minimums_mean=minimums_df.groupby(['problem_id','instance_id']).mean()\n",
      "/tmp/ipykernel_2531/812007416.py:11: FutureWarning: The default value of numeric_only in DataFrameGroupBy.mean is deprecated. In a future version, numeric_only will default to False. Either specify numeric_only or select only columns which should be valid for the function.\n",
      "  minimums_mean=minimums_df.groupby(['problem_id','instance_id']).mean()\n",
      "/tmp/ipykernel_2531/812007416.py:11: FutureWarning: The default value of numeric_only in DataFrameGroupBy.mean is deprecated. In a future version, numeric_only will default to False. Either specify numeric_only or select only columns which should be valid for the function.\n",
      "  minimums_mean=minimums_df.groupby(['problem_id','instance_id']).mean()\n",
      "/tmp/ipykernel_2531/812007416.py:11: FutureWarning: The default value of numeric_only in DataFrameGroupBy.mean is deprecated. In a future version, numeric_only will default to False. Either specify numeric_only or select only columns which should be valid for the function.\n",
      "  minimums_mean=minimums_df.groupby(['problem_id','instance_id']).mean()\n",
      "/tmp/ipykernel_2531/812007416.py:11: FutureWarning: The default value of numeric_only in DataFrameGroupBy.mean is deprecated. In a future version, numeric_only will default to False. Either specify numeric_only or select only columns which should be valid for the function.\n",
      "  minimums_mean=minimums_df.groupby(['problem_id','instance_id']).mean()\n",
      "/tmp/ipykernel_2531/812007416.py:11: FutureWarning: The default value of numeric_only in DataFrameGroupBy.mean is deprecated. In a future version, numeric_only will default to False. Either specify numeric_only or select only columns which should be valid for the function.\n",
      "  minimums_mean=minimums_df.groupby(['problem_id','instance_id']).mean()\n",
      "/tmp/ipykernel_2531/812007416.py:11: FutureWarning: The default value of numeric_only in DataFrameGroupBy.mean is deprecated. In a future version, numeric_only will default to False. Either specify numeric_only or select only columns which should be valid for the function.\n",
      "  minimums_mean=minimums_df.groupby(['problem_id','instance_id']).mean()\n"
     ]
    }
   ],
   "source": [
    "precision_df=pd.DataFrame()\n",
    "for dimension in [3,5,10,20]:\n",
    "    for algorithm in ['DE','ES','PSO']:\n",
    "        for end_iteration in [10,30,50]:\n",
    "            minimums_df=pd.DataFrame()\n",
    "            for seed in [200,400,600,800,1000]:\n",
    "                df=pd.read_csv(f'algorithm_run_data/{algorithm}_dim_{dimension}_seed_{seed}.csv', compression='zip',index_col=0)\n",
    "                df=df.query('iteration<@end_iteration')\n",
    "                minimums_df=pd.concat([minimums_df, df.groupby(['problem_id','instance_id']).min().reset_index()])\n",
    "\n",
    "            minimums_mean=minimums_df.groupby(['problem_id','instance_id']).mean()\n",
    "            optimums=pd.read_csv('algorithm_run_data/BBOB_optimums_dim_3.csv')\n",
    "            minimums_mean=minimums_mean.merge(optimums, left_on=['problem_id','instance_id'], right_on=['problem_id','instance_id'])\n",
    "            minimums_mean['precision']=minimums_mean.apply(lambda x: x['3']-x['y'], axis=1)\n",
    "            minimums_mean['budget_iterations']=end_iteration\n",
    "            minimums_mean['algorithm']=algorithm\n",
    "            precision_df=pd.concat([precision_df, minimums_mean[['problem_id','instance_id', 'precision', 'budget_iterations','dimension','algorithm']]])"
   ]
  },
  {
   "cell_type": "code",
   "execution_count": 33,
   "id": "15300f94-32b4-4462-a954-3a248ea0bf35",
   "metadata": {},
   "outputs": [],
   "source": [
    "precision_df.to_csv('algorithm_run_data/all_algorithms_mean_precision.csv')"
   ]
  },
  {
   "cell_type": "code",
   "execution_count": 32,
   "id": "61f041b7-3f20-4ac0-ae18-cb3b3d2c1982",
   "metadata": {},
   "outputs": [
    {
     "data": {
      "text/plain": [
       "86400"
      ]
     },
     "execution_count": 32,
     "metadata": {},
     "output_type": "execute_result"
    }
   ],
   "source": [
    "2400*3*3*4"
   ]
  },
  {
   "cell_type": "code",
   "execution_count": null,
   "id": "39ec7913-56fa-41f7-b801-8f0ba7cae6ac",
   "metadata": {},
   "outputs": [],
   "source": []
  }
 ],
 "metadata": {
  "kernelspec": {
   "display_name": "Base",
   "language": "python",
   "name": "base"
  },
  "language_info": {
   "codemirror_mode": {
    "name": "ipython",
    "version": 3
   },
   "file_extension": ".py",
   "mimetype": "text/x-python",
   "name": "python",
   "nbconvert_exporter": "python",
   "pygments_lexer": "ipython3",
   "version": "3.8.16"
  }
 },
 "nbformat": 4,
 "nbformat_minor": 5
}
