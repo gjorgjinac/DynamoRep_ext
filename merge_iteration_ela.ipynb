{
 "cells": [
  {
   "cell_type": "code",
   "execution_count": 11,
   "id": "55a3f262-fd4a-4ad8-9599-e15f6e62e82d",
   "metadata": {},
   "outputs": [
    {
     "name": "stdout",
     "output_type": "stream",
     "text": [
      "DE\n",
      "(72000, 99)\n",
      "(72000, 99)\n",
      "(72000, 99)\n",
      "(72000, 99)\n",
      "(72000, 99)\n"
     ]
    }
   ],
   "source": [
    "import os\n",
    "import pandas as pd\n",
    "#import missingno as msno\n",
    "\n",
    "\n",
    "dim=5\n",
    "id_columns=['problem_id','instance_id','algorithm','iteration_id','dim','seed']\n",
    "all_ela_features=pd.DataFrame()\n",
    "for algorithm in ['DE']:\n",
    "    print(algorithm)\n",
    "\n",
    "    for seed in [200,400,600,800,1000]:\n",
    "        ela=pd.DataFrame()\n",
    "        for problem_id in range(1,25):\n",
    "\n",
    "            file_name=f'iteration_ela/{algorithm}_dim_{dim}_seed_{seed}_problem_id_{problem_id}.csv'\n",
    "            if not os.path.isfile(file_name):\n",
    "                print('Missing ', file_name)\n",
    "                continue\n",
    "            problem_ela=pd.read_csv(file_name, index_col=[0])\n",
    "            problem_ela['seed']=seed\n",
    "            problem_ela['algorithm']=algorithm\n",
    "            ela = pd.concat([ela,problem_ela])\n",
    "        \n",
    "        ela['dim']=dim\n",
    "        ela.groupby(id_columns).median().to_csv(f'iteration_ela/{algorithm}_dim_{dim}_seed_{seed}.csv', compression='zip')\n",
    "        all_ela_features=pd.concat([all_ela_features,ela])\n",
    "        print(ela.shape)"
   ]
  },
  {
   "cell_type": "code",
   "execution_count": 12,
   "id": "e009344d-7ef3-4915-aa56-1f5024aff50a",
   "metadata": {},
   "outputs": [
    {
     "name": "stdout",
     "output_type": "stream",
     "text": [
      "DE\n",
      "(72000, 99)\n",
      "(72000, 99)\n",
      "(72000, 99)\n",
      "(72000, 99)\n",
      "(72000, 99)\n"
     ]
    }
   ],
   "source": [
    "dim=5\n",
    "all_ela_features=pd.DataFrame()\n",
    "for algorithm in ['DE']:\n",
    "    print(algorithm)\n",
    "    \n",
    "\n",
    "    for seed in [200,400,600,800,1000]:\n",
    "        ela=pd.read_csv(f'iteration_ela/{algorithm}_dim_{dim}_seed_{seed}.csv', compression='zip')\n",
    "        all_ela_features=pd.concat([all_ela_features,ela])\n",
    "        print(ela.shape)\n",
    "        \n",
    "    id_columns=['problem_id','instance_id','algorithm','iteration_id','dim','seed']\n",
    "    a=all_ela_features.melt(id_vars=id_columns).pivot(index=['problem_id','instance_id','algorithm','dim','seed'], columns=['iteration_id','variable'])\n",
    "    a.to_csv(f'iteration_ela/{algorithm}_dim_{dim}_all_runs.csv')"
   ]
  },
  {
   "cell_type": "code",
   "execution_count": null,
   "id": "8800766e-fe09-45d9-a717-2c7cd2b464db",
   "metadata": {},
   "outputs": [],
   "source": []
  }
 ],
 "metadata": {
  "kernelspec": {
   "display_name": "Base",
   "language": "python",
   "name": "base"
  },
  "language_info": {
   "codemirror_mode": {
    "name": "ipython",
    "version": 3
   },
   "file_extension": ".py",
   "mimetype": "text/x-python",
   "name": "python",
   "nbconvert_exporter": "python",
   "pygments_lexer": "ipython3",
   "version": "3.8.16"
  }
 },
 "nbformat": 4,
 "nbformat_minor": 5
}
