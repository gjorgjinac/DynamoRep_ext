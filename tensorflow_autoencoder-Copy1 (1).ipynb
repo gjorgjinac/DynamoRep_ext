{
 "cells": [
  {
   "cell_type": "code",
   "execution_count": 19,
   "id": "fd125e71-ac67-4704-a6d4-a5782d01abfc",
   "metadata": {
    "tags": []
   },
   "outputs": [
    {
     "name": "stderr",
     "output_type": "stream",
     "text": [
      "2023-04-04 12:11:26.135690: I tensorflow/tsl/cuda/cudart_stub.cc:28] Could not find cuda drivers on your machine, GPU will not be used.\n",
      "2023-04-04 12:11:26.493466: I tensorflow/tsl/cuda/cudart_stub.cc:28] Could not find cuda drivers on your machine, GPU will not be used.\n",
      "2023-04-04 12:11:26.496233: I tensorflow/core/platform/cpu_feature_guard.cc:182] This TensorFlow binary is optimized to use available CPU instructions in performance-critical operations.\n",
      "To enable the following instructions: AVX2 FMA, in other operations, rebuild TensorFlow with the appropriate compiler flags.\n",
      "2023-04-04 12:11:28.650083: W tensorflow/compiler/tf2tensorrt/utils/py_utils.cc:38] TF-TRT Warning: Could not find TensorRT\n"
     ]
    }
   ],
   "source": [
    "\n",
    "import matplotlib.pyplot as plt\n",
    "import numpy as np\n",
    "import pandas as pd\n",
    "import tensorflow as tf\n",
    "\n",
    "from sklearn.metrics import accuracy_score, precision_score, recall_score\n",
    "from sklearn.model_selection import train_test_split\n",
    "from tensorflow.keras import layers, losses\n",
    "from tensorflow.keras.datasets import fashion_mnist\n",
    "from tensorflow.keras.models import Model\n",
    "\n",
    "\n",
    "\n",
    "from sklearn.metrics.pairwise import cosine_similarity\n",
    "from sklearn.metrics import mean_squared_error\n",
    "import seaborn as sns\n",
    "pd.options.mode.chained_assignment = None  # default='warn'"
   ]
  },
  {
   "cell_type": "code",
   "execution_count": 2,
   "id": "872f6919-f3db-4a4a-a22e-d348cf38ca4d",
   "metadata": {},
   "outputs": [],
   "source": [
    "algorithm_names=['DE','ES','PSO']\n",
    "seeds=[200,400,600,800,1000]\n",
    "dimension=5"
   ]
  },
  {
   "cell_type": "code",
   "execution_count": 4,
   "id": "555fc114-1e6f-446a-9cdb-c10da366321a",
   "metadata": {},
   "outputs": [
    {
     "name": "stdout",
     "output_type": "stream",
     "text": [
      "(6000000, 10)\n"
     ]
    },
    {
     "name": "stderr",
     "output_type": "stream",
     "text": [
      "/home/jovyan/work/utils.py:164: FutureWarning: The frame.append method is deprecated and will be removed from pandas in a future version. Use pandas.concat instead.\n",
      "  sample_df = sample_df.append(sample_df_1)\n"
     ]
    },
    {
     "name": "stdout",
     "output_type": "stream",
     "text": [
      "(6000000, 10)\n"
     ]
    },
    {
     "name": "stderr",
     "output_type": "stream",
     "text": [
      "/home/jovyan/work/utils.py:164: FutureWarning: The frame.append method is deprecated and will be removed from pandas in a future version. Use pandas.concat instead.\n",
      "  sample_df = sample_df.append(sample_df_1)\n"
     ]
    },
    {
     "name": "stdout",
     "output_type": "stream",
     "text": [
      "(6000000, 10)\n"
     ]
    },
    {
     "name": "stderr",
     "output_type": "stream",
     "text": [
      "/home/jovyan/work/utils.py:164: FutureWarning: The frame.append method is deprecated and will be removed from pandas in a future version. Use pandas.concat instead.\n",
      "  sample_df = sample_df.append(sample_df_1)\n"
     ]
    },
    {
     "name": "stdout",
     "output_type": "stream",
     "text": [
      "(6000000, 10)\n"
     ]
    },
    {
     "name": "stderr",
     "output_type": "stream",
     "text": [
      "/home/jovyan/work/utils.py:164: FutureWarning: The frame.append method is deprecated and will be removed from pandas in a future version. Use pandas.concat instead.\n",
      "  sample_df = sample_df.append(sample_df_1)\n"
     ]
    },
    {
     "name": "stdout",
     "output_type": "stream",
     "text": [
      "(6000000, 10)\n"
     ]
    },
    {
     "name": "stderr",
     "output_type": "stream",
     "text": [
      "/home/jovyan/work/utils.py:164: FutureWarning: The frame.append method is deprecated and will be removed from pandas in a future version. Use pandas.concat instead.\n",
      "  sample_df = sample_df.append(sample_df_1)\n"
     ]
    },
    {
     "name": "stdout",
     "output_type": "stream",
     "text": [
      "(6000000, 10)\n"
     ]
    },
    {
     "name": "stderr",
     "output_type": "stream",
     "text": [
      "/home/jovyan/work/utils.py:164: FutureWarning: The frame.append method is deprecated and will be removed from pandas in a future version. Use pandas.concat instead.\n",
      "  sample_df = sample_df.append(sample_df_1)\n"
     ]
    },
    {
     "name": "stdout",
     "output_type": "stream",
     "text": [
      "(6000000, 10)\n"
     ]
    },
    {
     "name": "stderr",
     "output_type": "stream",
     "text": [
      "/home/jovyan/work/utils.py:164: FutureWarning: The frame.append method is deprecated and will be removed from pandas in a future version. Use pandas.concat instead.\n",
      "  sample_df = sample_df.append(sample_df_1)\n"
     ]
    },
    {
     "name": "stdout",
     "output_type": "stream",
     "text": [
      "(6000000, 10)\n"
     ]
    },
    {
     "name": "stderr",
     "output_type": "stream",
     "text": [
      "/home/jovyan/work/utils.py:164: FutureWarning: The frame.append method is deprecated and will be removed from pandas in a future version. Use pandas.concat instead.\n",
      "  sample_df = sample_df.append(sample_df_1)\n"
     ]
    },
    {
     "name": "stdout",
     "output_type": "stream",
     "text": [
      "(6000000, 10)\n"
     ]
    },
    {
     "name": "stderr",
     "output_type": "stream",
     "text": [
      "/home/jovyan/work/utils.py:164: FutureWarning: The frame.append method is deprecated and will be removed from pandas in a future version. Use pandas.concat instead.\n",
      "  sample_df = sample_df.append(sample_df_1)\n"
     ]
    },
    {
     "name": "stdout",
     "output_type": "stream",
     "text": [
      "(6000000, 10)\n"
     ]
    },
    {
     "name": "stderr",
     "output_type": "stream",
     "text": [
      "/home/jovyan/work/utils.py:164: FutureWarning: The frame.append method is deprecated and will be removed from pandas in a future version. Use pandas.concat instead.\n",
      "  sample_df = sample_df.append(sample_df_1)\n"
     ]
    },
    {
     "name": "stdout",
     "output_type": "stream",
     "text": [
      "(6000000, 10)\n"
     ]
    },
    {
     "name": "stderr",
     "output_type": "stream",
     "text": [
      "/home/jovyan/work/utils.py:164: FutureWarning: The frame.append method is deprecated and will be removed from pandas in a future version. Use pandas.concat instead.\n",
      "  sample_df = sample_df.append(sample_df_1)\n"
     ]
    },
    {
     "name": "stdout",
     "output_type": "stream",
     "text": [
      "(6000000, 10)\n"
     ]
    },
    {
     "name": "stderr",
     "output_type": "stream",
     "text": [
      "/home/jovyan/work/utils.py:164: FutureWarning: The frame.append method is deprecated and will be removed from pandas in a future version. Use pandas.concat instead.\n",
      "  sample_df = sample_df.append(sample_df_1)\n"
     ]
    },
    {
     "name": "stdout",
     "output_type": "stream",
     "text": [
      "(6000000, 10)\n"
     ]
    },
    {
     "name": "stderr",
     "output_type": "stream",
     "text": [
      "/home/jovyan/work/utils.py:164: FutureWarning: The frame.append method is deprecated and will be removed from pandas in a future version. Use pandas.concat instead.\n",
      "  sample_df = sample_df.append(sample_df_1)\n"
     ]
    },
    {
     "name": "stdout",
     "output_type": "stream",
     "text": [
      "(6000000, 10)\n"
     ]
    },
    {
     "name": "stderr",
     "output_type": "stream",
     "text": [
      "/home/jovyan/work/utils.py:164: FutureWarning: The frame.append method is deprecated and will be removed from pandas in a future version. Use pandas.concat instead.\n",
      "  sample_df = sample_df.append(sample_df_1)\n"
     ]
    },
    {
     "name": "stdout",
     "output_type": "stream",
     "text": [
      "(6000000, 10)\n"
     ]
    },
    {
     "name": "stderr",
     "output_type": "stream",
     "text": [
      "/home/jovyan/work/utils.py:164: FutureWarning: The frame.append method is deprecated and will be removed from pandas in a future version. Use pandas.concat instead.\n",
      "  sample_df = sample_df.append(sample_df_1)\n"
     ]
    }
   ],
   "source": [
    "from utils import *\n",
    "all_configuration_trajectories=read_trajectory_data(algorithm_names, seeds, dimension)"
   ]
  },
  {
   "cell_type": "code",
   "execution_count": 8,
   "id": "31fdb364-7a80-454f-be30-d403a4202154",
   "metadata": {},
   "outputs": [],
   "source": [
    "all_configuration_trajectories=all_configuration_trajectories.rename(columns={'algorithm_name':'conf','problem_id':'problem','instance_id':'instance', 'seed':'run'})"
   ]
  },
  {
   "cell_type": "code",
   "execution_count": 12,
   "id": "aa896364-ecaa-4e73-a169-cca2ca3bc270",
   "metadata": {},
   "outputs": [
    {
     "data": {
      "text/html": [
       "<div>\n",
       "<style scoped>\n",
       "    .dataframe tbody tr th:only-of-type {\n",
       "        vertical-align: middle;\n",
       "    }\n",
       "\n",
       "    .dataframe tbody tr th {\n",
       "        vertical-align: top;\n",
       "    }\n",
       "\n",
       "    .dataframe thead th {\n",
       "        text-align: right;\n",
       "    }\n",
       "</style>\n",
       "<table border=\"1\" class=\"dataframe\">\n",
       "  <thead>\n",
       "    <tr style=\"text-align: right;\">\n",
       "      <th></th>\n",
       "      <th></th>\n",
       "      <th></th>\n",
       "      <th></th>\n",
       "      <th></th>\n",
       "      <th>x_0</th>\n",
       "      <th>x_1</th>\n",
       "      <th>x_2</th>\n",
       "      <th>x_3</th>\n",
       "      <th>x_4</th>\n",
       "      <th>current f(x)</th>\n",
       "    </tr>\n",
       "    <tr>\n",
       "      <th>conf</th>\n",
       "      <th>problem</th>\n",
       "      <th>instance</th>\n",
       "      <th>run</th>\n",
       "      <th>iteration</th>\n",
       "      <th></th>\n",
       "      <th></th>\n",
       "      <th></th>\n",
       "      <th></th>\n",
       "      <th></th>\n",
       "      <th></th>\n",
       "    </tr>\n",
       "  </thead>\n",
       "  <tbody>\n",
       "    <tr>\n",
       "      <th rowspan=\"5\" valign=\"top\">DE</th>\n",
       "      <th rowspan=\"5\" valign=\"top\">1</th>\n",
       "      <th rowspan=\"5\" valign=\"top\">1</th>\n",
       "      <th rowspan=\"5\" valign=\"top\">200</th>\n",
       "      <th>0</th>\n",
       "      <td>4.476323</td>\n",
       "      <td>-2.734526</td>\n",
       "      <td>0.944201</td>\n",
       "      <td>-0.716913</td>\n",
       "      <td>2.641407</td>\n",
       "      <td>137.903248</td>\n",
       "    </tr>\n",
       "    <tr>\n",
       "      <th>0</th>\n",
       "      <td>-4.971394</td>\n",
       "      <td>-1.425763</td>\n",
       "      <td>4.096949</td>\n",
       "      <td>-0.439190</td>\n",
       "      <td>4.818027</td>\n",
       "      <td>191.914517</td>\n",
       "    </tr>\n",
       "    <tr>\n",
       "      <th>0</th>\n",
       "      <td>3.673570</td>\n",
       "      <td>4.860275</td>\n",
       "      <td>4.232667</td>\n",
       "      <td>-1.963067</td>\n",
       "      <td>3.461035</td>\n",
       "      <td>204.805497</td>\n",
       "    </tr>\n",
       "    <tr>\n",
       "      <th>0</th>\n",
       "      <td>-3.787780</td>\n",
       "      <td>2.855763</td>\n",
       "      <td>-2.494949</td>\n",
       "      <td>-4.039703</td>\n",
       "      <td>4.434910</td>\n",
       "      <td>201.270930</td>\n",
       "    </tr>\n",
       "    <tr>\n",
       "      <th>0</th>\n",
       "      <td>3.260501</td>\n",
       "      <td>0.183251</td>\n",
       "      <td>3.735004</td>\n",
       "      <td>0.783757</td>\n",
       "      <td>-0.499155</td>\n",
       "      <td>116.269933</td>\n",
       "    </tr>\n",
       "    <tr>\n",
       "      <th>...</th>\n",
       "      <th>...</th>\n",
       "      <th>...</th>\n",
       "      <th>...</th>\n",
       "      <th>...</th>\n",
       "      <td>...</td>\n",
       "      <td>...</td>\n",
       "      <td>...</td>\n",
       "      <td>...</td>\n",
       "      <td>...</td>\n",
       "      <td>...</td>\n",
       "    </tr>\n",
       "    <tr>\n",
       "      <th rowspan=\"5\" valign=\"top\">PSO</th>\n",
       "      <th rowspan=\"5\" valign=\"top\">24</th>\n",
       "      <th rowspan=\"5\" valign=\"top\">100</th>\n",
       "      <th rowspan=\"5\" valign=\"top\">1000</th>\n",
       "      <th>49</th>\n",
       "      <td>-1.719751</td>\n",
       "      <td>1.618423</td>\n",
       "      <td>1.429417</td>\n",
       "      <td>-1.196183</td>\n",
       "      <td>0.514956</td>\n",
       "      <td>-554.732293</td>\n",
       "    </tr>\n",
       "    <tr>\n",
       "      <th>49</th>\n",
       "      <td>-1.393425</td>\n",
       "      <td>2.611246</td>\n",
       "      <td>1.574812</td>\n",
       "      <td>-2.108312</td>\n",
       "      <td>0.601676</td>\n",
       "      <td>-549.715122</td>\n",
       "    </tr>\n",
       "    <tr>\n",
       "      <th>49</th>\n",
       "      <td>-2.745416</td>\n",
       "      <td>1.513312</td>\n",
       "      <td>1.749256</td>\n",
       "      <td>-0.953234</td>\n",
       "      <td>1.883558</td>\n",
       "      <td>-556.507388</td>\n",
       "    </tr>\n",
       "    <tr>\n",
       "      <th>49</th>\n",
       "      <td>-2.635253</td>\n",
       "      <td>1.297459</td>\n",
       "      <td>1.438285</td>\n",
       "      <td>-2.337344</td>\n",
       "      <td>1.104237</td>\n",
       "      <td>-557.280663</td>\n",
       "    </tr>\n",
       "    <tr>\n",
       "      <th>49</th>\n",
       "      <td>-2.951253</td>\n",
       "      <td>2.747349</td>\n",
       "      <td>1.751861</td>\n",
       "      <td>-1.593063</td>\n",
       "      <td>1.934023</td>\n",
       "      <td>-546.575500</td>\n",
       "    </tr>\n",
       "  </tbody>\n",
       "</table>\n",
       "<p>90000000 rows × 6 columns</p>\n",
       "</div>"
      ],
      "text/plain": [
       "                                           x_0       x_1       x_2       x_3  \\\n",
       "conf problem instance run  iteration                                           \n",
       "DE   1       1        200  0          4.476323 -2.734526  0.944201 -0.716913   \n",
       "                           0         -4.971394 -1.425763  4.096949 -0.439190   \n",
       "                           0          3.673570  4.860275  4.232667 -1.963067   \n",
       "                           0         -3.787780  2.855763 -2.494949 -4.039703   \n",
       "                           0          3.260501  0.183251  3.735004  0.783757   \n",
       "...                                        ...       ...       ...       ...   \n",
       "PSO  24      100      1000 49        -1.719751  1.618423  1.429417 -1.196183   \n",
       "                           49        -1.393425  2.611246  1.574812 -2.108312   \n",
       "                           49        -2.745416  1.513312  1.749256 -0.953234   \n",
       "                           49        -2.635253  1.297459  1.438285 -2.337344   \n",
       "                           49        -2.951253  2.747349  1.751861 -1.593063   \n",
       "\n",
       "                                           x_4  current f(x)  \n",
       "conf problem instance run  iteration                          \n",
       "DE   1       1        200  0          2.641407    137.903248  \n",
       "                           0          4.818027    191.914517  \n",
       "                           0          3.461035    204.805497  \n",
       "                           0          4.434910    201.270930  \n",
       "                           0         -0.499155    116.269933  \n",
       "...                                        ...           ...  \n",
       "PSO  24      100      1000 49         0.514956   -554.732293  \n",
       "                           49         0.601676   -549.715122  \n",
       "                           49         1.883558   -556.507388  \n",
       "                           49         1.104237   -557.280663  \n",
       "                           49         1.934023   -546.575500  \n",
       "\n",
       "[90000000 rows x 6 columns]"
      ]
     },
     "execution_count": 12,
     "metadata": {},
     "output_type": "execute_result"
    }
   ],
   "source": [
    "all_configuration_trajectories"
   ]
  },
  {
   "cell_type": "code",
   "execution_count": 10,
   "id": "098189d8-588b-49fd-8586-48a3108e2e92",
   "metadata": {
    "tags": []
   },
   "outputs": [],
   "source": [
    "all_configuration_trajectories=all_configuration_trajectories.set_index(['conf','problem','instance','run','iteration'])"
   ]
  },
  {
   "cell_type": "code",
   "execution_count": 26,
   "id": "da87e97b-b271-40b7-a276-693db56fe6e0",
   "metadata": {},
   "outputs": [],
   "source": [
    "all_configuration_trajectories.columns=[f'x{i}' for i in range (0,dimension)] + [\"current f(x)\"]"
   ]
  },
  {
   "cell_type": "code",
   "execution_count": 27,
   "id": "2786d0af-a839-4516-bc0f-4638a0768afd",
   "metadata": {
    "tags": []
   },
   "outputs": [],
   "source": [
    "from sklearn.preprocessing import MinMaxScaler"
   ]
  },
  {
   "cell_type": "code",
   "execution_count": 60,
   "id": "9500052e-665d-4482-b44b-eed1240e43d4",
   "metadata": {
    "tags": []
   },
   "outputs": [],
   "source": [
    "def get_x_y(df):\n",
    "    x_current=[]\n",
    "    x_next=[]\n",
    "    y=[]\n",
    "    for conf_id in df.reset_index()['conf'].drop_duplicates().values:\n",
    "        conf_trajectories=df.loc[conf_id]\n",
    "\n",
    "        for problem in df.reset_index()['problem'].drop_duplicates().values:\n",
    "            problem_df=conf_trajectories.loc[problem]\n",
    "            for instance in df.reset_index()['instance'].drop_duplicates().values:\n",
    "                instance_df=problem_df.loc[instance]\n",
    "                for run in df.reset_index()['run'].drop_duplicates().values:\n",
    "                    trajectory=instance_df.loc[run]\n",
    "                    for it in range (0,10):\n",
    "                        scaler = MinMaxScaler(feature_range=(0,1))\n",
    "                        trajectory_it_2=trajectory.query(\"iteration==@it or iteration==@it+1\")\n",
    "                        trajectory_it_2[\"current f(x)\"]=scaler.fit_transform(trajectory_it_2[\"current f(x)\"].values.reshape(-1, 1))\n",
    "                        current_population=trajectory_it_2.query(\"iteration==@it\")[[\"x0\",\"x1\",\"x2\",\"x3\",\"x4\",\"current f(x)\"]].sort_values(\"current f(x)\")\n",
    "                        next_population=trajectory_it_2.query(\"iteration==@it+1\")[[\"x0\",\"x1\",\"x2\",\"x3\",\"x4\",\"current f(x)\"]].sort_values(\"current f(x)\")\n",
    "                        x_current+=[current_population]\n",
    "                        x_next+=[next_population]\n",
    "                        y+=[conf_id]\n",
    "    return tf.convert_to_tensor(np.array(x_current)), tf.convert_to_tensor(np.array(x_next)), y\n",
    "            \n"
   ]
  },
  {
   "cell_type": "code",
   "execution_count": 20,
   "id": "69af4782-9d6e-4403-ad02-731c2717eb50",
   "metadata": {
    "tags": []
   },
   "outputs": [],
   "source": [
    "instance_ids = list(all_configuration_trajectories.index.get_level_values('problem').drop_duplicates().values)\n",
    "train_instance_ids, test_instance_ids = train_test_split(instance_ids, test_size=0.1)\n",
    "train_instance_ids, val_instance_ids = train_test_split(train_instance_ids, test_size=0.1)"
   ]
  },
  {
   "cell_type": "code",
   "execution_count": 21,
   "id": "d711d5e5-f1a2-4d61-9e28-719ca91dd705",
   "metadata": {
    "tags": []
   },
   "outputs": [],
   "source": [
    "all_configurations=all_configuration_trajectories.reset_index()['conf'].drop_duplicates().values"
   ]
  },
  {
   "cell_type": "code",
   "execution_count": 29,
   "id": "4e461af6-7100-46b8-b3f6-d8853a00fb77",
   "metadata": {
    "tags": []
   },
   "outputs": [],
   "source": [
    "class AutoencoderConv(Model):\n",
    "  def __init__(self):\n",
    "    super(AutoencoderConv, self).__init__()\n",
    "    self.encoder = tf.keras.Sequential([\n",
    "      layers.Input(shape=(50,6, 1)),\n",
    "      layers.Conv2D(16, (3, 3), activation='relu', padding='same', strides=1),\n",
    "      layers.Conv2D(8, (3, 3), activation='relu', padding='same', strides=1)])\n",
    "\n",
    "    self.decoder = tf.keras.Sequential([\n",
    "      layers.Conv2DTranspose(8, kernel_size=3, strides=1, activation='relu', padding='same'),\n",
    "      layers.Conv2DTranspose(16, kernel_size=3, strides=1, activation='relu', padding='same'),\n",
    "      layers.Conv2D(1, kernel_size=(3, 3), activation='sigmoid', padding='same')])\n",
    "\n",
    "  def call(self, x):\n",
    "    encoded = self.encoder(x)\n",
    "    decoded = self.decoder(encoded)\n",
    "    return decoded\n"
   ]
  },
  {
   "cell_type": "code",
   "execution_count": 30,
   "id": "f5b94c46-57af-4dde-bce6-6e9d6414b826",
   "metadata": {
    "tags": []
   },
   "outputs": [],
   "source": [
    "class Autoencoder(Model):\n",
    "  def __init__(self, latent_dim):\n",
    "    super(Autoencoder, self).__init__()\n",
    "    self.latent_dim = latent_dim   \n",
    "    self.encoder = tf.keras.Sequential([\n",
    "      layers.Flatten(),\n",
    "      layers.Dense(latent_dim, activation='relu'),\n",
    "      layers.Dense(latent_dim, activation='relu')\n",
    "    ])\n",
    "    self.decoder = tf.keras.Sequential([\n",
    "        layers.Dense(latent_dim, activation='relu'),\n",
    "      layers.Dense(300, activation='sigmoid'),\n",
    "      layers.Reshape((50,6))\n",
    "    ])\n",
    "\n",
    "  def call(self, x):\n",
    "    encoded = self.encoder(x)\n",
    "    decoded = self.decoder(encoded)\n",
    "    return decoded\n",
    "    "
   ]
  },
  {
   "cell_type": "code",
   "execution_count": 31,
   "id": "0dba3e82-e523-4949-81e6-91f57e4c7f91",
   "metadata": {
    "tags": []
   },
   "outputs": [],
   "source": [
    "import pandas as pd\n",
    "pd.options.mode.chained_assignment = None  # default='warn'"
   ]
  },
  {
   "cell_type": "code",
   "execution_count": 61,
   "id": "59b39a57-a1e9-496f-a285-27c1402cba1c",
   "metadata": {
    "tags": []
   },
   "outputs": [
    {
     "name": "stdout",
     "output_type": "stream",
     "text": [
      "Epoch 1/20\n",
      "282/282 [==============================] - 7s 23ms/step - loss: 5.9765 - val_loss: 5.2637\n",
      "Epoch 2/20\n",
      "282/282 [==============================] - 6s 22ms/step - loss: 5.8622 - val_loss: 5.2502\n",
      "Epoch 3/20\n",
      "282/282 [==============================] - 6s 22ms/step - loss: 5.8555 - val_loss: 5.2465\n",
      "Epoch 4/20\n",
      "282/282 [==============================] - 6s 22ms/step - loss: 5.8528 - val_loss: 5.2443\n",
      "Epoch 1/20\n",
      "282/282 [==============================] - 8s 24ms/step - loss: 4.8189 - val_loss: 4.3599\n",
      "Epoch 2/20\n",
      "282/282 [==============================] - 6s 23ms/step - loss: 4.7341 - val_loss: 4.3407\n",
      "Epoch 3/20\n",
      "282/282 [==============================] - 6s 23ms/step - loss: 4.7274 - val_loss: 4.3393\n",
      "Epoch 4/20\n",
      "282/282 [==============================] - 6s 22ms/step - loss: 4.7237 - val_loss: 4.3397\n",
      "Epoch 1/20\n",
      "282/282 [==============================] - 8s 23ms/step - loss: 3.5160 - val_loss: 2.9463\n",
      "Epoch 2/20\n",
      "282/282 [==============================] - 6s 23ms/step - loss: 3.4303 - val_loss: 2.9388\n",
      "Epoch 3/20\n",
      "282/282 [==============================] - 6s 22ms/step - loss: 3.4263 - val_loss: 2.9368\n"
     ]
    }
   ],
   "source": [
    "trained_models={}\n",
    "use_conv=True\n",
    "for conf in all_configurations:\n",
    "    conf_trajectories=all_configuration_trajectories.query(\"conf==@conf and instance<=10\")\n",
    "    train, val, test =[conf_trajectories.query(f\"problem in @split_instance_ids\").sample(frac=1) for split_instance_ids in [train_instance_ids, val_instance_ids, test_instance_ids]]\n",
    "    \n",
    "    x_train_0,x_train_1, y_train=get_x_y(train)\n",
    "    x_val_0,x_val_1, y_val=get_x_y(val)\n",
    "    x_test_0,x_test_1, y_test=get_x_y(test)\n",
    "\n",
    "    latent_dim = 64 \n",
    "    autoencoder = AutoencoderConv() if use_conv else Autoencoder(latent_dim)\n",
    "    callback = tf.keras.callbacks.EarlyStopping(monitor='val_loss', patience=2, min_delta=0.01)\n",
    "    autoencoder.compile(optimizer='adam', loss=losses.MeanSquaredError())\n",
    "    autoencoder.fit(x_train_0, x_train_1,\n",
    "                epochs=20,\n",
    "                shuffle=True, callbacks=[callback],\n",
    "                validation_data=(x_val_0, x_val_1))\n",
    "    trained_models[conf]={'model':autoencoder, 'train':train, 'val':val, 'test':test, 'data':(x_train_0,x_train_1, y_train,x_val_0,x_val_1, y_val, x_test_0,x_test_1, y_test) }"
   ]
  },
  {
   "cell_type": "code",
   "execution_count": 62,
   "id": "7211929d-bd19-4434-a390-a22850643715",
   "metadata": {
    "tags": []
   },
   "outputs": [],
   "source": [
    "from sklearn.metrics.pairwise import cosine_similarity\n",
    "from sklearn.metrics import mean_squared_error,mean_absolute_error"
   ]
  },
  {
   "cell_type": "code",
   "execution_count": 65,
   "id": "3f382ab7-af79-456c-8ce6-027804c812d9",
   "metadata": {},
   "outputs": [],
   "source": [
    "all_similarities=pd.DataFrame()\n",
    "for conf in all_configurations:\n",
    "    \n",
    "    x_train_0,x_train_1, y_train,x_val_0,x_val_1, y_val, x_test_0,x_test_1, y_test=trained_models[conf]['data']\n",
    "    predictions_for_conf=[]\n",
    "    \n",
    "    for x0,x1 in zip(x_test_0,x_test_1):\n",
    "        test_predictions=[]\n",
    "        for conf2 in all_configurations:\n",
    "            pred=trained_models[conf2]['model'](tf.convert_to_tensor(np.array([x0]))).numpy()[0]\n",
    "            pred=pred.reshape(50,6)\n",
    "            test_predictions+=[mean_absolute_error(pred,x1)]\n",
    "        predictions_for_conf+=[test_predictions]\n",
    "    d=pd.DataFrame(predictions_for_conf)\n",
    "    d['source_conf']=conf\n",
    "    all_similarities=pd.concat([all_similarities, d])"
   ]
  },
  {
   "cell_type": "code",
   "execution_count": 66,
   "id": "95634cb3-e6df-4402-8fe6-91a161589022",
   "metadata": {
    "tags": []
   },
   "outputs": [
    {
     "data": {
      "text/html": [
       "<div>\n",
       "<style scoped>\n",
       "    .dataframe tbody tr th:only-of-type {\n",
       "        vertical-align: middle;\n",
       "    }\n",
       "\n",
       "    .dataframe tbody tr th {\n",
       "        vertical-align: top;\n",
       "    }\n",
       "\n",
       "    .dataframe thead th {\n",
       "        text-align: right;\n",
       "    }\n",
       "</style>\n",
       "<table border=\"1\" class=\"dataframe\">\n",
       "  <thead>\n",
       "    <tr style=\"text-align: right;\">\n",
       "      <th></th>\n",
       "      <th>0</th>\n",
       "      <th>1</th>\n",
       "      <th>2</th>\n",
       "      <th>source_conf</th>\n",
       "    </tr>\n",
       "  </thead>\n",
       "  <tbody>\n",
       "    <tr>\n",
       "      <th>0</th>\n",
       "      <td>2.140924</td>\n",
       "      <td>2.171997</td>\n",
       "      <td>2.148512</td>\n",
       "      <td>DE</td>\n",
       "    </tr>\n",
       "    <tr>\n",
       "      <th>1</th>\n",
       "      <td>2.198046</td>\n",
       "      <td>2.233440</td>\n",
       "      <td>2.220127</td>\n",
       "      <td>DE</td>\n",
       "    </tr>\n",
       "    <tr>\n",
       "      <th>2</th>\n",
       "      <td>2.289159</td>\n",
       "      <td>2.341679</td>\n",
       "      <td>2.309247</td>\n",
       "      <td>DE</td>\n",
       "    </tr>\n",
       "    <tr>\n",
       "      <th>3</th>\n",
       "      <td>2.116464</td>\n",
       "      <td>2.151275</td>\n",
       "      <td>2.132674</td>\n",
       "      <td>DE</td>\n",
       "    </tr>\n",
       "    <tr>\n",
       "      <th>4</th>\n",
       "      <td>2.042922</td>\n",
       "      <td>2.089804</td>\n",
       "      <td>2.053641</td>\n",
       "      <td>DE</td>\n",
       "    </tr>\n",
       "    <tr>\n",
       "      <th>...</th>\n",
       "      <td>...</td>\n",
       "      <td>...</td>\n",
       "      <td>...</td>\n",
       "      <td>...</td>\n",
       "    </tr>\n",
       "    <tr>\n",
       "      <th>1495</th>\n",
       "      <td>1.879042</td>\n",
       "      <td>1.888815</td>\n",
       "      <td>1.861586</td>\n",
       "      <td>PSO</td>\n",
       "    </tr>\n",
       "    <tr>\n",
       "      <th>1496</th>\n",
       "      <td>1.864917</td>\n",
       "      <td>1.896168</td>\n",
       "      <td>1.865407</td>\n",
       "      <td>PSO</td>\n",
       "    </tr>\n",
       "    <tr>\n",
       "      <th>1497</th>\n",
       "      <td>1.862935</td>\n",
       "      <td>1.870618</td>\n",
       "      <td>1.847461</td>\n",
       "      <td>PSO</td>\n",
       "    </tr>\n",
       "    <tr>\n",
       "      <th>1498</th>\n",
       "      <td>1.840223</td>\n",
       "      <td>1.870376</td>\n",
       "      <td>1.853058</td>\n",
       "      <td>PSO</td>\n",
       "    </tr>\n",
       "    <tr>\n",
       "      <th>1499</th>\n",
       "      <td>1.830263</td>\n",
       "      <td>1.859513</td>\n",
       "      <td>1.842475</td>\n",
       "      <td>PSO</td>\n",
       "    </tr>\n",
       "  </tbody>\n",
       "</table>\n",
       "<p>4500 rows × 4 columns</p>\n",
       "</div>"
      ],
      "text/plain": [
       "             0         1         2 source_conf\n",
       "0     2.140924  2.171997  2.148512          DE\n",
       "1     2.198046  2.233440  2.220127          DE\n",
       "2     2.289159  2.341679  2.309247          DE\n",
       "3     2.116464  2.151275  2.132674          DE\n",
       "4     2.042922  2.089804  2.053641          DE\n",
       "...        ...       ...       ...         ...\n",
       "1495  1.879042  1.888815  1.861586         PSO\n",
       "1496  1.864917  1.896168  1.865407         PSO\n",
       "1497  1.862935  1.870618  1.847461         PSO\n",
       "1498  1.840223  1.870376  1.853058         PSO\n",
       "1499  1.830263  1.859513  1.842475         PSO\n",
       "\n",
       "[4500 rows x 4 columns]"
      ]
     },
     "execution_count": 66,
     "metadata": {},
     "output_type": "execute_result"
    }
   ],
   "source": [
    "all_similarities"
   ]
  },
  {
   "cell_type": "code",
   "execution_count": 67,
   "id": "56af0489-5450-4ec1-8fc0-ac04331cd620",
   "metadata": {
    "tags": []
   },
   "outputs": [
    {
     "data": {
      "text/html": [
       "<div>\n",
       "<style scoped>\n",
       "    .dataframe tbody tr th:only-of-type {\n",
       "        vertical-align: middle;\n",
       "    }\n",
       "\n",
       "    .dataframe tbody tr th {\n",
       "        vertical-align: top;\n",
       "    }\n",
       "\n",
       "    .dataframe thead th {\n",
       "        text-align: right;\n",
       "    }\n",
       "</style>\n",
       "<table border=\"1\" class=\"dataframe\">\n",
       "  <thead>\n",
       "    <tr style=\"text-align: right;\">\n",
       "      <th></th>\n",
       "      <th>0</th>\n",
       "      <th>1</th>\n",
       "      <th>2</th>\n",
       "    </tr>\n",
       "    <tr>\n",
       "      <th>source_conf</th>\n",
       "      <th></th>\n",
       "      <th></th>\n",
       "      <th></th>\n",
       "    </tr>\n",
       "  </thead>\n",
       "  <tbody>\n",
       "    <tr>\n",
       "      <th>DE</th>\n",
       "      <td>2.013476</td>\n",
       "      <td>2.031294</td>\n",
       "      <td>2.022425</td>\n",
       "    </tr>\n",
       "    <tr>\n",
       "      <th>ES</th>\n",
       "      <td>1.838053</td>\n",
       "      <td>1.837849</td>\n",
       "      <td>1.848499</td>\n",
       "    </tr>\n",
       "    <tr>\n",
       "      <th>PSO</th>\n",
       "      <td>1.474004</td>\n",
       "      <td>1.491529</td>\n",
       "      <td>1.476653</td>\n",
       "    </tr>\n",
       "  </tbody>\n",
       "</table>\n",
       "</div>"
      ],
      "text/plain": [
       "                    0         1         2\n",
       "source_conf                              \n",
       "DE           2.013476  2.031294  2.022425\n",
       "ES           1.838053  1.837849  1.848499\n",
       "PSO          1.474004  1.491529  1.476653"
      ]
     },
     "execution_count": 67,
     "metadata": {},
     "output_type": "execute_result"
    }
   ],
   "source": [
    "all_similarities.groupby('source_conf').mean()"
   ]
  },
  {
   "cell_type": "code",
   "execution_count": 68,
   "id": "a48daf8e-e94d-4656-87f9-a448196f9bdc",
   "metadata": {
    "tags": []
   },
   "outputs": [],
   "source": [
    "import seaborn as sns"
   ]
  },
  {
   "cell_type": "code",
   "execution_count": 69,
   "id": "6c795027-7177-40c6-9899-68913dd246c5",
   "metadata": {
    "tags": []
   },
   "outputs": [
    {
     "data": {
      "text/plain": [
       "<AxesSubplot: ylabel='source_conf'>"
      ]
     },
     "execution_count": 69,
     "metadata": {},
     "output_type": "execute_result"
    },
    {
     "data": {
      "image/png": "[encoded data removed]",
      "text/plain": [
       "<Figure size 640x480 with 2 Axes>"
      ]
     },
     "metadata": {},
     "output_type": "display_data"
    }
   ],
   "source": [
    "sns.heatmap(all_similarities.groupby('source_conf').mean(), annot=True)"
   ]
  },
  {
   "cell_type": "code",
   "execution_count": null,
   "id": "4247c28d-1484-4956-8ce2-9a517546df29",
   "metadata": {},
   "outputs": [],
   "source": []
  }
 ],
 "metadata": {
  "kernelspec": {
   "display_name": "Base",
   "language": "python",
   "name": "base"
  },
  "language_info": {
   "codemirror_mode": {
    "name": "ipython",
    "version": 3
   },
   "file_extension": ".py",
   "mimetype": "text/x-python",
   "name": "python",
   "nbconvert_exporter": "python",
   "pygments_lexer": "ipython3",
   "version": "3.8.16"
  }
 },
 "nbformat": 4,
 "nbformat_minor": 5
}
